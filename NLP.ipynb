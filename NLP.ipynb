{
 "cells": [
  {
   "cell_type": "code",
   "execution_count": 1,
   "metadata": {},
   "outputs": [
    {
     "name": "stderr",
     "output_type": "stream",
     "text": [
      "[nltk_data] Downloading package punkt to\n",
      "[nltk_data]     C:\\Users\\user\\AppData\\Roaming\\nltk_data...\n",
      "[nltk_data]   Package punkt is already up-to-date!\n"
     ]
    }
   ],
   "source": [
    "import numpy as np   \n",
    "import pandas as pd  \n",
    "import nltk          \n",
    "from nltk.tokenize import sent_tokenize\n",
    "nltk.download('punkt')\n",
    "import re           \n",
    "from tqdm import tqdm,trange \n",
    "import os    "
   ]
  },
  {
   "cell_type": "code",
   "execution_count": 2,
   "metadata": {},
   "outputs": [
    {
     "name": "stderr",
     "output_type": "stream",
     "text": [
      "100%|██████████| 510/510 [00:02<00:00, 175.69it/s]\n"
     ]
    }
   ],
   "source": [
    "type_of_article = 'business'  \n",
    "root_path = 'BBC News Summary'\n",
    "num_of_article = len(os.listdir(f\"{root_path}/News Articles/{type_of_article}\"))\n",
    "\n",
    "df = pd.DataFrame(columns=['title','article','summary'])\n",
    "\n",
    "for i in tqdm(range(num_of_article)):\n",
    "    with open(f'{root_path}/News Articles/{type_of_article}/{(i+1):03d}.txt', 'r') as f:\n",
    "        article = f.read().splitlines()\n",
    "    with open(f'{root_path}/Summaries/{type_of_article}/{(i+1):03d}.txt', 'r') as f:\n",
    "        summary = f.read().splitlines()\n",
    "    if len(summary) >=2:\n",
    "        print(i)\n",
    "    df.loc[i] = [article[0],article[2:],summary[0]]"
   ]
  },
  {
   "cell_type": "code",
   "execution_count": 3,
   "metadata": {},
   "outputs": [
    {
     "data": {
      "text/html": [
       "<div>\n",
       "<style scoped>\n",
       "    .dataframe tbody tr th:only-of-type {\n",
       "        vertical-align: middle;\n",
       "    }\n",
       "\n",
       "    .dataframe tbody tr th {\n",
       "        vertical-align: top;\n",
       "    }\n",
       "\n",
       "    .dataframe thead th {\n",
       "        text-align: right;\n",
       "    }\n",
       "</style>\n",
       "<table border=\"1\" class=\"dataframe\">\n",
       "  <thead>\n",
       "    <tr style=\"text-align: right;\">\n",
       "      <th></th>\n",
       "      <th>title</th>\n",
       "      <th>article</th>\n",
       "      <th>summary</th>\n",
       "    </tr>\n",
       "  </thead>\n",
       "  <tbody>\n",
       "    <tr>\n",
       "      <th>0</th>\n",
       "      <td>Ad sales boost Time Warner profit</td>\n",
       "      <td>[Quarterly profits at US media giant TimeWarne...</td>\n",
       "      <td>TimeWarner said fourth quarter sales rose 2% t...</td>\n",
       "    </tr>\n",
       "    <tr>\n",
       "      <th>1</th>\n",
       "      <td>Dollar gains on Greenspan speech</td>\n",
       "      <td>[The dollar has hit its highest level against ...</td>\n",
       "      <td>The dollar has hit its highest level against t...</td>\n",
       "    </tr>\n",
       "    <tr>\n",
       "      <th>2</th>\n",
       "      <td>Yukos unit buyer faces loan claim</td>\n",
       "      <td>[The owners of embattled Russian oil giant Yuk...</td>\n",
       "      <td>Yukos' owner Menatep Group says it will ask Ro...</td>\n",
       "    </tr>\n",
       "    <tr>\n",
       "      <th>3</th>\n",
       "      <td>High fuel prices hit BA's profits</td>\n",
       "      <td>[British Airways has blamed high fuel prices f...</td>\n",
       "      <td>Rod Eddington, BA's chief executive, said the ...</td>\n",
       "    </tr>\n",
       "    <tr>\n",
       "      <th>4</th>\n",
       "      <td>Pernod takeover talk lifts Domecq</td>\n",
       "      <td>[Shares in UK drinks and food firm Allied Dome...</td>\n",
       "      <td>Pernod has reduced the debt it took on to fund...</td>\n",
       "    </tr>\n",
       "  </tbody>\n",
       "</table>\n",
       "</div>"
      ],
      "text/plain": [
       "                               title  \\\n",
       "0  Ad sales boost Time Warner profit   \n",
       "1   Dollar gains on Greenspan speech   \n",
       "2  Yukos unit buyer faces loan claim   \n",
       "3  High fuel prices hit BA's profits   \n",
       "4  Pernod takeover talk lifts Domecq   \n",
       "\n",
       "                                             article  \\\n",
       "0  [Quarterly profits at US media giant TimeWarne...   \n",
       "1  [The dollar has hit its highest level against ...   \n",
       "2  [The owners of embattled Russian oil giant Yuk...   \n",
       "3  [British Airways has blamed high fuel prices f...   \n",
       "4  [Shares in UK drinks and food firm Allied Dome...   \n",
       "\n",
       "                                             summary  \n",
       "0  TimeWarner said fourth quarter sales rose 2% t...  \n",
       "1  The dollar has hit its highest level against t...  \n",
       "2  Yukos' owner Menatep Group says it will ask Ro...  \n",
       "3  Rod Eddington, BA's chief executive, said the ...  \n",
       "4  Pernod has reduced the debt it took on to fund...  "
      ]
     },
     "execution_count": 3,
     "metadata": {},
     "output_type": "execute_result"
    }
   ],
   "source": [
    "df.head()"
   ]
  },
  {
   "cell_type": "code",
   "execution_count": 4,
   "metadata": {},
   "outputs": [
    {
     "name": "stdout",
     "output_type": "stream",
     "text": [
      "Quarterly profits at US media giant TimeWarner jumped 76% to $1.13bn (Â£600m) for the three months to December, from $639m year-earlier.\n",
      "\n",
      "The firm, which is now one of the biggest investors in Google, benefited from sales of high-speed internet connections and higher advert sales. TimeWarner said fourth quarter sales rose 2% to $11.1bn from $10.9bn. Its profits were buoyed by one-off gains which offset a profit dip at Warner Bros, and less users for AOL.\n",
      "\n",
      "Time Warner said on Friday that it now owns 8% of search-engine Google. But its own internet business, AOL, had has mixed fortunes. It lost 464,000 subscribers in the fourth quarter profits were lower than in the preceding three quarters. However, the company said AOL's underlying profit before exceptional items rose 8% on the back of stronger internet advertising revenues. It hopes to increase subscribers by offering the online service free to TimeWarner internet customers and will try to sign up AOL's existing customers for high-speed broadband. TimeWarner also has to restate 2000 and 2003 results following a probe by the US Securities Exchange Commission (SEC), which is close to concluding.\n",
      "\n",
      "Time Warner's fourth quarter profits were slightly better than analysts' expectations. But its film division saw profits slump 27% to $284m, helped by box-office flops Alexander and Catwoman, a sharp contrast to year-earlier, when the third and final film in the Lord of the Rings trilogy boosted results. For the full-year, TimeWarner posted a profit of $3.36bn, up 27% from its 2003 performance, while revenues grew 6.4% to $42.09bn. \"Our financial performance was strong, meeting or exceeding all of our full-year objectives and greatly enhancing our flexibility,\" chairman and chief executive Richard Parsons said. For 2005, TimeWarner is projecting operating earnings growth of around 5%, and also expects higher revenue and wider profit margins.\n",
      "\n",
      "TimeWarner is to restate its accounts as part of efforts to resolve an inquiry into AOL by US market regulators. It has already offered to pay $300m to settle charges, in a deal that is under review by the SEC. The company said it was unable to estimate the amount it needed to set aside for legal reserves, which it previously set at $500m. It intends to adjust the way it accounts for a deal with German music publisher Bertelsmann's purchase of a stake in AOL Europe, which it had reported as advertising revenue. It will now book the sale of its stake in AOL Europe as a loss on the value of that stake.\n"
     ]
    }
   ],
   "source": [
    "def print_article(article):\n",
    "    for item in article:\n",
    "        print(item)\n",
    "\n",
    "print_article( df['article'][0])"
   ]
  },
  {
   "cell_type": "code",
   "execution_count": 5,
   "metadata": {},
   "outputs": [],
   "source": [
    "def sentence_tokenize(sent):\n",
    "    lst = []\n",
    "    tmp_lst = []\n",
    "    for i in range(len(sent)):\n",
    "        if not (len(tmp_lst)==0 and sent[i]==' '):\n",
    "            tmp_lst.append(sent[i])\n",
    "        if i==len(sent)-1 or (sent[i]=='.' and (not(sent[i+1].isdigit()) or sent[i+1]==\" \")):\n",
    "            lst.append(''.join(tmp_lst))\n",
    "            tmp_lst = []\n",
    "    return lst"
   ]
  },
  {
   "cell_type": "code",
   "execution_count": 6,
   "metadata": {},
   "outputs": [],
   "source": [
    "def split_sent(article_list):\n",
    "    sentences = []\n",
    "    for s in article_list:\n",
    "        sentences.extend(sentence_tokenize(s))  \n",
    "    return sentences"
   ]
  },
  {
   "cell_type": "code",
   "execution_count": 7,
   "metadata": {},
   "outputs": [
    {
     "data": {
      "text/plain": [
       "['Quarterly profits at US media giant TimeWarner jumped 76% to $1.13bn (Â£600m) for the three months to December, from $639m year-earlier.',\n",
       " 'The firm, which is now one of the biggest investors in Google, benefited from sales of high-speed internet connections and higher advert sales.',\n",
       " 'TimeWarner said fourth quarter sales rose 2% to $11.1bn from $10.9bn.',\n",
       " 'Its profits were buoyed by one-off gains which offset a profit dip at Warner Bros, and less users for AOL.',\n",
       " 'Time Warner said on Friday that it now owns 8% of search-engine Google.',\n",
       " 'But its own internet business, AOL, had has mixed fortunes.',\n",
       " 'It lost 464,000 subscribers in the fourth quarter profits were lower than in the preceding three quarters.',\n",
       " \"However, the company said AOL's underlying profit before exceptional items rose 8% on the back of stronger internet advertising revenues.\",\n",
       " \"It hopes to increase subscribers by offering the online service free to TimeWarner internet customers and will try to sign up AOL's existing customers for high-speed broadband.\",\n",
       " 'TimeWarner also has to restate 2000 and 2003 results following a probe by the US Securities Exchange Commission (SEC), which is close to concluding.',\n",
       " \"Time Warner's fourth quarter profits were slightly better than analysts' expectations.\",\n",
       " 'But its film division saw profits slump 27% to $284m, helped by box-office flops Alexander and Catwoman, a sharp contrast to year-earlier, when the third and final film in the Lord of the Rings trilogy boosted results.',\n",
       " 'For the full-year, TimeWarner posted a profit of $3.36bn, up 27% from its 2003 performance, while revenues grew 6.4% to $42.09bn.',\n",
       " '\"Our financial performance was strong, meeting or exceeding all of our full-year objectives and greatly enhancing our flexibility,\" chairman and chief executive Richard Parsons said.',\n",
       " 'For 2005, TimeWarner is projecting operating earnings growth of around 5%, and also expects higher revenue and wider profit margins.',\n",
       " 'TimeWarner is to restate its accounts as part of efforts to resolve an inquiry into AOL by US market regulators.',\n",
       " 'It has already offered to pay $300m to settle charges, in a deal that is under review by the SEC.',\n",
       " 'The company said it was unable to estimate the amount it needed to set aside for legal reserves, which it previously set at $500m.',\n",
       " \"It intends to adjust the way it accounts for a deal with German music publisher Bertelsmann's purchase of a stake in AOL Europe, which it had reported as advertising revenue.\",\n",
       " 'It will now book the sale of its stake in AOL Europe as a loss on the value of that stake.']"
      ]
     },
     "execution_count": 7,
     "metadata": {},
     "output_type": "execute_result"
    }
   ],
   "source": [
    "sentences = split_sent(df['article'][0])\n",
    "sentences"
   ]
  },
  {
   "cell_type": "code",
   "execution_count": 8,
   "metadata": {},
   "outputs": [
    {
     "name": "stdout",
     "output_type": "stream",
     "text": [
      "20\n"
     ]
    }
   ],
   "source": [
    "print(len(sentences))"
   ]
  },
  {
   "cell_type": "code",
   "execution_count": 9,
   "metadata": {},
   "outputs": [],
   "source": [
    "lower_sentences = [s.lower() for s in sentences]"
   ]
  },
  {
   "cell_type": "code",
   "execution_count": 10,
   "metadata": {},
   "outputs": [
    {
     "name": "stdout",
     "output_type": "stream",
     "text": [
      "Quarterly profits at US media giant TimeWarner jumped 76% to $1.13bn (Â£600m) for the three months to December, from $639m year-earlier.\n",
      "quarterly profits at us media giant timewarner jumped 76% to $1.13bn (â£600m) for the three months to december, from $639m year-earlier.\n"
     ]
    }
   ],
   "source": [
    "print(sentences[0])\n",
    "print(lower_sentences[0])"
   ]
  },
  {
   "cell_type": "code",
   "execution_count": 11,
   "metadata": {},
   "outputs": [
    {
     "name": "stderr",
     "output_type": "stream",
     "text": [
      "[nltk_data] Downloading package stopwords to\n",
      "[nltk_data]     C:\\Users\\user\\AppData\\Roaming\\nltk_data...\n",
      "[nltk_data]   Package stopwords is already up-to-date!\n"
     ]
    }
   ],
   "source": [
    "nltk.download('stopwords')# one time execution\n",
    "from nltk.corpus import stopwords\n",
    "stop_words = stopwords.words('english')"
   ]
  },
  {
   "cell_type": "code",
   "execution_count": 12,
   "metadata": {},
   "outputs": [],
   "source": [
    "def remove_stopwords(sen):\n",
    "    sen_new = \" \".join([i for i in sen if i not in stop_words])\n",
    "    return sen_new"
   ]
  },
  {
   "cell_type": "code",
   "execution_count": 13,
   "metadata": {},
   "outputs": [],
   "source": [
    "# remove stopwords from the sentences\n",
    "clean_stopword_sentences = [remove_stopwords(r.split()) for r in lower_sentences]"
   ]
  },
  {
   "cell_type": "code",
   "execution_count": 14,
   "metadata": {},
   "outputs": [
    {
     "name": "stdout",
     "output_type": "stream",
     "text": [
      "time warner said on friday that it now owns 8% of search-engine google.\n",
      "time warner said friday owns 8% search-engine google.\n"
     ]
    }
   ],
   "source": [
    "print(lower_sentences[4])\n",
    "print(clean_stopword_sentences[4])"
   ]
  },
  {
   "cell_type": "code",
   "execution_count": 15,
   "metadata": {},
   "outputs": [],
   "source": [
    "def clean_sentence(sentences):\n",
    "    # remove punctuations, numbers and special characters\n",
    "    clean_sentences = pd.Series(sentences).str.replace(\"[^a-zA-Z]\", \" \",regex=True)\n",
    "    return clean_sentences\n",
    "clean_sentences = clean_sentence(clean_stopword_sentences)"
   ]
  },
  {
   "cell_type": "code",
   "execution_count": 16,
   "metadata": {},
   "outputs": [
    {
     "name": "stdout",
     "output_type": "stream",
     "text": [
      "time warner said friday owns 8% search-engine google.\n",
      "time warner said friday owns    search engine google \n"
     ]
    }
   ],
   "source": [
    "print(clean_stopword_sentences[4])\n",
    "print(clean_sentences[4])"
   ]
  },
  {
   "cell_type": "code",
   "execution_count": 17,
   "metadata": {},
   "outputs": [],
   "source": [
    "# Extract word vectors\n",
    "def obtain_word_embeddings(path):\n",
    "    word_embeddings = {}\n",
    "    with open(path, encoding='utf-8') as f:\n",
    "        for line in f:\n",
    "            values = line.split()  # Split data\n",
    "            word = values[0]       # Get its name\n",
    "            coefs = np.asarray(values[1:], dtype='float32')  # Get its coefficient\n",
    "            word_embeddings[word] = coefs\n",
    "    return word_embeddings"
   ]
  },
  {
   "cell_type": "code",
   "execution_count": 18,
   "metadata": {},
   "outputs": [],
   "source": [
    "dim = 100 # 50d, 100d, 200d, 300d\n",
    "word_embeddings = obtain_word_embeddings('glove.6B.100d.txt')"
   ]
  },
  {
   "cell_type": "code",
   "execution_count": 19,
   "metadata": {},
   "outputs": [
    {
     "name": "stdout",
     "output_type": "stream",
     "text": [
      "100\n"
     ]
    },
    {
     "data": {
      "text/plain": [
       "array([-4.0623e-02,  1.2911e-01,  9.2652e-01, -7.2253e-02,  4.3828e-01,\n",
       "       -3.7762e-01, -2.7500e-01, -9.7944e-02, -1.7680e-01,  3.8279e-01,\n",
       "        9.2663e-03,  9.0631e-03, -3.1502e-01,  6.2815e-02, -2.2111e-01,\n",
       "       -9.9742e-01, -1.8360e-01,  3.9113e-01, -9.2952e-02, -1.2779e-01,\n",
       "        4.8426e-01, -4.9320e-01,  5.0948e-01, -4.0813e-01,  6.3657e-01,\n",
       "       -3.5722e-01, -2.9193e-01,  3.8334e-01,  5.3071e-01,  3.5986e-01,\n",
       "        9.4441e-01,  5.1081e-01, -2.8931e-01, -1.8275e-01, -6.4469e-01,\n",
       "        1.7839e-03,  2.9478e-01, -1.6024e-01, -3.6157e-01, -3.5547e-01,\n",
       "       -1.7029e-01, -3.6866e-01,  2.1928e-01, -8.1945e-01, -9.6375e-02,\n",
       "       -9.4109e-02,  3.1669e-01, -5.9285e-01,  5.9422e-01, -3.3568e-01,\n",
       "       -5.5049e-01,  5.8094e-02, -2.0299e-02,  1.5526e+00,  1.0057e+00,\n",
       "       -2.2807e+00,  9.0735e-02,  2.5548e-01,  1.9764e+00,  1.9240e-01,\n",
       "        2.1717e-01, -5.1021e-01, -5.1359e-01,  5.1908e-01,  1.0555e+00,\n",
       "        5.8991e-01,  3.1111e-01, -6.3756e-01,  8.6152e-02,  3.5644e-01,\n",
       "        1.6603e-01, -3.4552e-01, -1.6820e-01, -3.9867e-01,  3.4280e-02,\n",
       "       -4.7766e-01, -2.5408e-01, -2.3718e-01, -8.3404e-01,  6.5836e-01,\n",
       "        9.3803e-01, -1.3326e-01, -2.9901e-01,  3.2505e-01, -1.1457e+00,\n",
       "        1.0420e+00,  6.5583e-01,  4.1296e-01,  1.9837e-01, -9.3335e-01,\n",
       "       -1.6483e-01, -5.9048e-01, -5.8521e-01,  3.3946e-01, -1.1346e+00,\n",
       "       -4.3089e-01, -4.5838e-02, -9.5842e-01,  1.0884e+00, -9.0499e-02],\n",
       "      dtype=float32)"
      ]
     },
     "execution_count": 19,
     "metadata": {},
     "output_type": "execute_result"
    }
   ],
   "source": [
    "print(len(word_embeddings['power']))\n",
    "word_embeddings['power']"
   ]
  },
  {
   "cell_type": "code",
   "execution_count": 20,
   "metadata": {},
   "outputs": [],
   "source": [
    "def get_sentence_vector(clean_sentences,word_embeddings,dim):\n",
    "    sentence_vectors = []\n",
    "    for i in clean_sentences:\n",
    "        if len(i) != 0 and len(i.split())!=0:\n",
    "            v = sum([word_embeddings.get(w, np.zeros((dim,))) for w in i.split()])  /  (len(i.split()))\n",
    "        else:\n",
    "            v = np.zeros((dim,))\n",
    "        sentence_vectors.append(v)\n",
    "    return sentence_vectors"
   ]
  },
  {
   "cell_type": "code",
   "execution_count": 21,
   "metadata": {},
   "outputs": [],
   "source": [
    "sentence_vectors = get_sentence_vector(clean_sentences,word_embeddings,dim)"
   ]
  },
  {
   "cell_type": "code",
   "execution_count": 22,
   "metadata": {},
   "outputs": [
    {
     "data": {
      "text/plain": [
       "array([ 0.25752053,  0.23528284,  0.1550738 , -0.11292683,  0.04785102,\n",
       "       -0.27084264,  0.18262467,  0.14807741, -0.33969784, -0.02814914,\n",
       "        0.6900326 ,  0.012676  ,  0.12063119, -0.11588935, -0.02513509,\n",
       "       -0.08353068, -0.23286067, -0.06393155, -0.11162333,  0.04924533,\n",
       "        0.4963151 , -0.00559121,  0.06584881,  0.7407327 ,  0.17311713,\n",
       "       -0.20972148,  0.08057515, -0.05163107,  0.05253493, -0.20233728,\n",
       "        0.22026818,  0.23793788, -0.19043288, -0.1615126 , -0.02269659,\n",
       "        0.25451896, -0.06301408,  0.20892058, -0.11234333,  0.11002687,\n",
       "       -0.09511994, -0.294326  ,  0.02288165, -0.02382299,  0.09188754,\n",
       "       -0.01889439, -0.03790221, -0.33707657,  0.05119812, -0.6637375 ,\n",
       "        0.00528113, -0.22597614,  0.45746925,  0.7254707 , -0.2601727 ,\n",
       "       -1.7819446 , -0.28429502, -0.07216566,  1.5086141 ,  0.34097487,\n",
       "       -0.05817715,  0.18997292, -0.36550254,  0.0503162 ,  0.11474153,\n",
       "        0.2679809 ,  0.06190809,  0.27976716,  0.5992585 ,  0.09247448,\n",
       "        0.13055953,  0.1420984 , -0.3398793 , -0.09969959, -0.27980736,\n",
       "       -0.03123966, -0.02870979, -0.02666201, -0.664494  , -0.01842786,\n",
       "        0.6275264 , -0.09189633, -0.1180116 ,  0.1336436 , -0.6372468 ,\n",
       "       -0.43444312,  0.19252132, -0.29268143,  0.27566528, -0.02703766,\n",
       "        0.06841288,  0.1433218 , -0.19104   , -0.0233706 , -0.4009958 ,\n",
       "        0.08681846, -0.01182927,  0.0530156 ,  0.58511335, -0.23078766],\n",
       "      dtype=float32)"
      ]
     },
     "execution_count": 22,
     "metadata": {},
     "output_type": "execute_result"
    }
   ],
   "source": [
    "\n",
    "sentence_vectors[0]"
   ]
  },
  {
   "cell_type": "code",
   "execution_count": 23,
   "metadata": {},
   "outputs": [],
   "source": [
    "from sklearn.metrics.pairwise import cosine_similarity"
   ]
  },
  {
   "cell_type": "code",
   "execution_count": 24,
   "metadata": {},
   "outputs": [],
   "source": [
    "def get_sim_mat(sentences,sentence_vectors,dim):\n",
    "    # similarity matrix\n",
    "    sim_mat = np.zeros([len(sentences), len(sentences)])\n",
    "    for i in range(len(sentences)):\n",
    "        for j in range(len(sentences)):\n",
    "            if i != j:\n",
    "                sim_mat[i][j] = cosine_similarity(sentence_vectors[i].reshape(1,dim), sentence_vectors[j].reshape(1,dim))[0,0]\n",
    "    return sim_mat"
   ]
  },
  {
   "cell_type": "code",
   "execution_count": 25,
   "metadata": {},
   "outputs": [],
   "source": [
    "sim_mat = get_sim_mat(sentences,sentence_vectors,dim)"
   ]
  },
  {
   "cell_type": "code",
   "execution_count": 26,
   "metadata": {},
   "outputs": [
    {
     "data": {
      "text/plain": [
       "array([0.        , 0.84675545, 0.85546279, 0.83095247, 0.80431628,\n",
       "       0.71415198, 0.87522542, 0.86956829, 0.75488216, 0.82849383,\n",
       "       0.88327944, 0.86984181, 0.87482041, 0.75345731, 0.82059687,\n",
       "       0.7541002 , 0.82266867, 0.83089364, 0.81281799, 0.79938984])"
      ]
     },
     "execution_count": 26,
     "metadata": {},
     "output_type": "execute_result"
    }
   ],
   "source": [
    "sim_mat[0]"
   ]
  },
  {
   "cell_type": "code",
   "execution_count": 27,
   "metadata": {},
   "outputs": [],
   "source": [
    "import networkx as nx\n",
    "def rank_sent(sim_mat,sentences):\n",
    "    nx_graph = nx.from_numpy_array(sim_mat)\n",
    "    scores = nx.pagerank(nx_graph)\n",
    "    ranked_sentences = sorted(((scores[i],i) for i,s in enumerate(sentences)), reverse=True)\n",
    "    return ranked_sentences"
   ]
  },
  {
   "cell_type": "code",
   "execution_count": null,
   "metadata": {},
   "outputs": [],
   "source": []
  },
  {
   "cell_type": "code",
   "execution_count": 28,
   "metadata": {},
   "outputs": [],
   "source": [
    "ranked_sentences = rank_sent(sim_mat,sentences)\n"
   ]
  },
  {
   "cell_type": "code",
   "execution_count": 29,
   "metadata": {},
   "outputs": [
    {
     "data": {
      "text/plain": [
       "[(0.05382744545717655, 7),\n",
       " (0.05271410001923109, 1),\n",
       " (0.0523572127021195, 10),\n",
       " (0.05162670617803707, 18),\n",
       " (0.05156791404260303, 0),\n",
       " (0.05155716801626093, 3),\n",
       " (0.05049959070946769, 14),\n",
       " (0.050149716633304454, 19),\n",
       " (0.049789680769217574, 17),\n",
       " (0.049698028447220315, 6),\n",
       " (0.049412523226725055, 11),\n",
       " (0.049371272703831265, 8),\n",
       " (0.0490546957496752, 4),\n",
       " (0.048995438646976676, 12),\n",
       " (0.048982802625338245, 15),\n",
       " (0.048771953453086506, 9),\n",
       " (0.048663849762547694, 16),\n",
       " (0.04821598540000167, 13),\n",
       " (0.04788184075849474, 5),\n",
       " (0.0468620746986848, 2)]"
      ]
     },
     "execution_count": 29,
     "metadata": {},
     "output_type": "execute_result"
    }
   ],
   "source": [
    "ranked_sentences"
   ]
  },
  {
   "cell_type": "code",
   "execution_count": 30,
   "metadata": {},
   "outputs": [],
   "source": [
    "def extract_summary(ranked_sentences, sentence_number):\n",
    "    # Specify number of sentences to form the summary\n",
    "    result_lst = []\n",
    "    # Generate summary\n",
    "    for i in range(sentence_number):\n",
    "        result_lst.append(ranked_sentences[i][1])\n",
    "\n",
    "    \n",
    "    return result_lst"
   ]
  },
  {
   "cell_type": "code",
   "execution_count": 31,
   "metadata": {},
   "outputs": [
    {
     "data": {
      "text/plain": [
       "[7, 1, 10, 18, 0, 3, 14, 19]"
      ]
     },
     "execution_count": 31,
     "metadata": {},
     "output_type": "execute_result"
    }
   ],
   "source": [
    "\n",
    "result_lst = extract_summary(ranked_sentences,8)\n",
    "result_lst"
   ]
  },
  {
   "cell_type": "code",
   "execution_count": 32,
   "metadata": {},
   "outputs": [],
   "source": [
    "data = df['summary'][0]\n",
    "data = sentence_tokenize(data)\n",
    "gold = split_sent(data)"
   ]
  },
  {
   "cell_type": "code",
   "execution_count": 33,
   "metadata": {},
   "outputs": [],
   "source": [
    "gold_lst = []\n",
    "for i,sent in enumerate(sentences):\n",
    "    if sent in gold:\n",
    "        gold_lst.append(i)"
   ]
  },
  {
   "cell_type": "code",
   "execution_count": 34,
   "metadata": {},
   "outputs": [
    {
     "data": {
      "text/plain": [
       "[7, 1, 10, 18, 0, 3, 14, 19]"
      ]
     },
     "execution_count": 34,
     "metadata": {},
     "output_type": "execute_result"
    }
   ],
   "source": [
    "result_lst\n"
   ]
  },
  {
   "cell_type": "code",
   "execution_count": 35,
   "metadata": {},
   "outputs": [
    {
     "data": {
      "text/plain": [
       "[0, 2, 3, 6, 7, 10, 12, 14]"
      ]
     },
     "execution_count": 35,
     "metadata": {},
     "output_type": "execute_result"
    }
   ],
   "source": [
    "gold_lst"
   ]
  },
  {
   "cell_type": "code",
   "execution_count": 36,
   "metadata": {},
   "outputs": [],
   "source": [
    "correct = 0\n",
    "for i in range(len(result_lst)):\n",
    "    if result_lst[i] in gold_lst:\n",
    "        correct+=1"
   ]
  },
  {
   "cell_type": "code",
   "execution_count": 37,
   "metadata": {},
   "outputs": [
    {
     "data": {
      "text/plain": [
       "0.625"
      ]
     },
     "execution_count": 37,
     "metadata": {},
     "output_type": "execute_result"
    }
   ],
   "source": [
    "correct/8\n"
   ]
  },
  {
   "cell_type": "code",
   "execution_count": 38,
   "metadata": {},
   "outputs": [],
   "source": [
    "def test(i,word_embeddings,dim):\n",
    "    sentences = split_sent(df['article'][i])\n",
    "    stop_words = stopwords.words('english')\n",
    "    lower_sentences = [s.lower() for s in sentences]\n",
    "    clean_stopword_sentences = [remove_stopwords(r.split()) for r in lower_sentences]\n",
    "    clean_sentences = clean_sentence(clean_stopword_sentences)\n",
    "    sentence_vectors = get_sentence_vector(clean_sentences,word_embeddings,dim)\n",
    "    sim_mat = get_sim_mat(sentences,sentence_vectors,dim)\n",
    "    ranked_sentences = rank_sent(sim_mat,sentences)\n",
    "\n",
    "\n",
    "    data = df['summary'][i]\n",
    "    data = sentence_tokenize(data)\n",
    "    gold = split_sent(data)\n",
    "    sentence_num = len(gold)\n",
    "\n",
    "    result_lst = extract_summary(ranked_sentences,sentence_num)\n",
    "    result_lst.sort()\n",
    "    gold_lst = []\n",
    "    for i,sent in enumerate(sentences):\n",
    "        if sent in gold:\n",
    "            gold_lst.append(i)\n",
    "    correct = 0\n",
    "    for i in range(len(result_lst)):\n",
    "        if result_lst[i] in gold_lst:\n",
    "            correct+=1\n",
    "    return correct/sentence_num"
   ]
  },
  {
   "cell_type": "code",
   "execution_count": 39,
   "metadata": {},
   "outputs": [
    {
     "name": "stderr",
     "output_type": "stream",
     "text": [
      "100%|██████████| 510/510 [02:03<00:00,  4.11it/s, Acc=0.666667] \n"
     ]
    }
   ],
   "source": [
    "result = []\n",
    "t = trange(510)\n",
    "dim = 300\n",
    "word_embeddings = obtain_word_embeddings('glove.6B.300d.txt')\n",
    "\n",
    "for i in t:\n",
    "    accuracy = test(i,word_embeddings,dim)\n",
    "    result.append(accuracy)\n",
    "#     t.set_postfix()\n",
    "    t.set_postfix(Acc='%g' % accuracy)"
   ]
  },
  {
   "cell_type": "code",
   "execution_count": 40,
   "metadata": {},
   "outputs": [
    {
     "data": {
      "text/plain": [
       "0.5763393490754177"
      ]
     },
     "execution_count": 40,
     "metadata": {},
     "output_type": "execute_result"
    }
   ],
   "source": [
    "sum(result)/len(result)\n"
   ]
  },
  {
   "cell_type": "code",
   "execution_count": 41,
   "metadata": {},
   "outputs": [
    {
     "data": {
      "text/plain": [
       "['TimeWarner said fourth quarter sales rose 2% to $11.1bn from $10.9bn.',\n",
       " 'For the full-year, TimeWarner posted a profit of $3.36bn, up 27% from its 2003 performance, while revenues grew 6.4% to $42.09bn.',\n",
       " 'Quarterly profits at US media giant TimeWarner jumped 76% to $1.13bn (Â£600m) for the three months to December, from $639m year-earlier.',\n",
       " \"However, the company said AOL's underlying profit before exceptional items rose 8% on the back of stronger internet advertising revenues.\",\n",
       " 'Its profits were buoyed by one-off gains which offset a profit dip at Warner Bros, and less users for AOL.',\n",
       " 'For 2005, TimeWarner is projecting operating earnings growth of around 5%, and also expects higher revenue and wider profit margins.',\n",
       " 'It lost 464,000 subscribers in the fourth quarter profits were lower than in the preceding three quarters.',\n",
       " \"Time Warner's fourth quarter profits were slightly better than analysts' expectations.\"]"
      ]
     },
     "execution_count": 41,
     "metadata": {},
     "output_type": "execute_result"
    }
   ],
   "source": [
    "data"
   ]
  },
  {
   "cell_type": "code",
   "execution_count": 42,
   "metadata": {},
   "outputs": [],
   "source": [
    "from rouge import Rouge\n",
    "hypothesis = ''.join([sentences[i] for i in result_lst])\n",
    "reference = ''.join([ i for i in data])\n",
    "\n",
    "rouge = Rouge()\n",
    "\n",
    "scores = rouge.get_scores(hypothesis, reference)"
   ]
  },
  {
   "cell_type": "code",
   "execution_count": 43,
   "metadata": {},
   "outputs": [
    {
     "data": {
      "text/plain": [
       "0.5769230719436228"
      ]
     },
     "execution_count": 43,
     "metadata": {},
     "output_type": "execute_result"
    }
   ],
   "source": [
    "scores[0]['rouge-2']['f']\n"
   ]
  },
  {
   "cell_type": "code",
   "execution_count": 44,
   "metadata": {},
   "outputs": [
    {
     "data": {
      "text/plain": [
       "\"Quarterly profits at US media giant TimeWarner jumped 76% to $1.13bn (Â£600m) for the three months to December, from $639m year-earlier. The firm, which is now one of the biggest investors in Google, benefited from sales of high-speed internet connections and higher advert sales. Its profits were buoyed by one-off gains which offset a profit dip at Warner Bros, and less users for AOL. However, the company said AOL's underlying profit before exceptional items rose 8% on the back of stronger internet advertising revenues. Time Warner's fourth quarter profits were slightly better than analysts' expectations. For 2005, TimeWarner is projecting operating earnings growth of around 5%, and also expects higher revenue and wider profit margins. It intends to adjust the way it accounts for a deal with German music publisher Bertelsmann's purchase of a stake in AOL Europe, which it had reported as advertising revenue. It will now book the sale of its stake in AOL Europe as a loss on the value of that stake.\""
      ]
     },
     "execution_count": 44,
     "metadata": {},
     "output_type": "execute_result"
    }
   ],
   "source": [
    "\" \".join([sentences[i] for i in sorted(result_lst)])"
   ]
  },
  {
   "cell_type": "code",
   "execution_count": 45,
   "metadata": {},
   "outputs": [
    {
     "data": {
      "text/plain": [
       "\"TimeWarner said fourth quarter sales rose 2% to $11.1bn from $10.9bn.For the full-year, TimeWarner posted a profit of $3.36bn, up 27% from its 2003 performance, while revenues grew 6.4% to $42.09bn.Quarterly profits at US media giant TimeWarner jumped 76% to $1.13bn (Â£600m) for the three months to December, from $639m year-earlier.However, the company said AOL's underlying profit before exceptional items rose 8% on the back of stronger internet advertising revenues.Its profits were buoyed by one-off gains which offset a profit dip at Warner Bros, and less users for AOL.For 2005, TimeWarner is projecting operating earnings growth of around 5%, and also expects higher revenue and wider profit margins.It lost 464,000 subscribers in the fourth quarter profits were lower than in the preceding three quarters.Time Warner's fourth quarter profits were slightly better than analysts' expectations.\""
      ]
     },
     "execution_count": 45,
     "metadata": {},
     "output_type": "execute_result"
    }
   ],
   "source": [
    "df['summary'][0]"
   ]
  },
  {
   "cell_type": "code",
   "execution_count": 46,
   "metadata": {},
   "outputs": [
    {
     "data": {
      "text/plain": [
       "510"
      ]
     },
     "execution_count": 46,
     "metadata": {},
     "output_type": "execute_result"
    }
   ],
   "source": [
    "len(df)"
   ]
  },
  {
   "cell_type": "code",
   "execution_count": null,
   "metadata": {},
   "outputs": [],
   "source": []
  }
 ],
 "metadata": {
  "kernelspec": {
   "display_name": "Python 3",
   "language": "python",
   "name": "python3"
  },
  "language_info": {
   "codemirror_mode": {
    "name": "ipython",
    "version": 3
   },
   "file_extension": ".py",
   "mimetype": "text/x-python",
   "name": "python",
   "nbconvert_exporter": "python",
   "pygments_lexer": "ipython3",
   "version": "3.8.5"
  }
 },
 "nbformat": 4,
 "nbformat_minor": 4
}
